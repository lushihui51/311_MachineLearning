{
  "nbformat": 4,
  "nbformat_minor": 0,
  "metadata": {
    "colab": {
      "provenance": []
    },
    "kernelspec": {
      "name": "python3",
      "display_name": "Python 3"
    },
    "language_info": {
      "name": "python"
    }
  },
  "cells": [
    {
      "cell_type": "markdown",
      "source": [
        "# Setup\n",
        "\n",
        "Get dataset:"
      ],
      "metadata": {
        "id": "Yg_ZygUUN4Ft"
      }
    },
    {
      "cell_type": "code",
      "source": [
        "from google.colab import drive\n",
        "drive.mount('/content/drive')"
      ],
      "metadata": {
        "colab": {
          "base_uri": "https://localhost:8080/"
        },
        "id": "pYUAutGS5fge",
        "outputId": "dc517257-a0e9-49d9-beeb-4141547d9427"
      },
      "execution_count": 1,
      "outputs": [
        {
          "output_type": "stream",
          "name": "stdout",
          "text": [
            "Mounted at /content/drive\n"
          ]
        }
      ]
    },
    {
      "cell_type": "code",
      "source": [
        "!cp drive/MyDrive/clean_dataset.csv ./"
      ],
      "metadata": {
        "id": "K3nukHPHxzNB"
      },
      "execution_count": 2,
      "outputs": []
    },
    {
      "cell_type": "markdown",
      "source": [
        "Necessary imports:"
      ],
      "metadata": {
        "id": "hV147RIZN_n-"
      }
    },
    {
      "cell_type": "code",
      "source": [
        "# Necessary Imports\n",
        "import pandas as pd\n",
        "import numpy as np\n",
        "import matplotlib.pyplot as plt\n",
        "import re\n",
        "\n",
        "from sklearn.model_selection import train_test_split"
      ],
      "metadata": {
        "id": "P9fCkY7msB8B"
      },
      "execution_count": 3,
      "outputs": []
    },
    {
      "cell_type": "markdown",
      "source": [
        "# Cleaning The Dataset\n",
        "\n"
      ],
      "metadata": {
        "id": "RWAxo1snrv1u"
      }
    },
    {
      "cell_type": "markdown",
      "source": [
        "We start with a cell for helper function definitions. That way, when we change a function, rerunning the cell won't give us any issues by itself."
      ],
      "metadata": {
        "id": "lboP1q_YOIi-"
      }
    },
    {
      "cell_type": "code",
      "source": [
        "# (Given to us in challenge_basic.py)\n",
        "def to_numeric(s):\n",
        "    \"\"\"Converts string `s` to a float.\n",
        "\n",
        "    Invalid strings and NaN values will be converted to float('nan').\n",
        "    \"\"\"\n",
        "\n",
        "    if isinstance(s, str):\n",
        "        s = s.replace(\",\", '')\n",
        "        s = pd.to_numeric(s, errors=\"coerce\")\n",
        "    return float(s)\n",
        "\n",
        "\n",
        "# (Given to us in challenge_basic.py)\n",
        "def get_number_list(s):\n",
        "    \"\"\"Get a list of integers contained in string `s`\n",
        "    \"\"\"\n",
        "    return [int(n) for n in re.findall(\"(\\d+)\", str(s))]\n",
        "\n",
        "\n",
        "# (Given to us in challenge_basic.py)\n",
        "def get_number_list_clean(s):\n",
        "    \"\"\"Return a clean list of numbers contained in `s`.\n",
        "\n",
        "    Additional cleaning includes removing numbers that are not of interest\n",
        "    and standardizing return list size.\n",
        "    \"\"\"\n",
        "\n",
        "    n_list = get_number_list(s)\n",
        "    n_list += [-1]*(6-len(n_list))\n",
        "    return n_list\n",
        "\n",
        "\n",
        "# (Given to us in challenge_basic.py)\n",
        "def get_number(s):\n",
        "    \"\"\"Get the first number contained in string `s`.\n",
        "\n",
        "    If `s` does not contain any numbers, return -1.\n",
        "    \"\"\"\n",
        "    n_list = get_number_list(s)\n",
        "    return n_list[0] if len(n_list) >= 1 else -1\n",
        "\n",
        "\n",
        "# (Given to us in challenge_basic.py)\n",
        "def find_area_at_rank(l, i):\n",
        "    \"\"\"Return the area at a certain rank in list `l`.\n",
        "\n",
        "    Areas are indexed starting at 1 as ordered in the survey.\n",
        "\n",
        "    If area is not present in `l`, return -1.\n",
        "    \"\"\"\n",
        "    return l.index(i) + 1 if i in l else 0\n",
        "\n",
        "\n",
        "# (Given to us in challenge_basic.py)\n",
        "def cat_in_s(s, cat):\n",
        "    \"\"\"Return if a category is present in string `s` as an binary integer.\n",
        "    \"\"\"\n",
        "    return int(cat in s) if not pd.isna(s) else 0\n",
        "\n",
        "\n",
        "def filter_string(input_string):\n",
        "  \"\"\"\n",
        "    Filter out unwanted characters from quotes.\n",
        "\n",
        "    NOTE: Currently removes all punctuation, turns any multi-line quotes into\n",
        "    space separated ones, then manually removes carriage returns, form feeds,\n",
        "    and tabspaces. Final result is lowercase.\n",
        "  \"\"\"\n",
        "  if not isinstance(input_string, str):\n",
        "    input_string = str(input_string)\n",
        "\n",
        "  # Our regular expression\n",
        "  pattern = r'[a-zA-Z\\s\\d]'\n",
        "\n",
        "  # Get all characters\n",
        "  filtered_characters = re.findall(pattern, input_string)\n",
        "\n",
        "  # Join the extracted characters to form the filtered string\n",
        "  filtered_string = ''.join(filtered_characters)\n",
        "\n",
        "  # Remove carriage return, tabspace, form feed\n",
        "  filtered_string = filtered_string.replace('\\r','')\n",
        "  filtered_string = filtered_string.replace('\\t','')\n",
        "  filtered_string = filtered_string.replace('\\f','')\n",
        "\n",
        "  # Sub any amount of newlines with a single space\n",
        "  filtered_string = re.sub(r'\\n+', \" \", filtered_string)\n",
        "\n",
        "  # Final result will be lowercase and have no trailing whitespace\n",
        "  return filtered_string.lower().strip()\n",
        "\n",
        "\n",
        "def clean_q6(row):\n",
        "  \"\"\"\n",
        "    Get scores for each entry in Q6 and assign to corresponding position.\n",
        "\n",
        "    NOTE: Positions are currently hard-coded in the same order as they appear\n",
        "    in the CSV. Missing rankings are zeroes, duplicate rankings are kept as is.\n",
        "  \"\"\"\n",
        "  res = np.array([0,0,0,0,0,0])  # To change value of null-entry, do it here\n",
        "\n",
        "  # Split string of comma-separated scores\n",
        "  items = row.split(',')\n",
        "\n",
        "  # Loop through each score, then if the score is not blank, add it to array\n",
        "  i = 0\n",
        "  for item in items:\n",
        "    _, v = item.split(\"=>\")\n",
        "    if v:\n",
        "      res[i] = v\n",
        "    i += 1\n",
        "\n",
        "  return res"
      ],
      "metadata": {
        "id": "RoWXJp9oOH60"
      },
      "execution_count": 4,
      "outputs": []
    },
    {
      "cell_type": "code",
      "source": [
        "# Fresh CSV data (Removing null data early on enssures we don't run into unexpected errors)\n",
        "data = pd.read_csv(\"clean_dataset.csv\").replace('', np.nan).dropna()\n",
        "\n",
        "# Clean numerics\n",
        "for i in (1, 2, 3, 4, 7, 8, 9):\n",
        "  qi = \"Q\"+str(i)\n",
        "  data[qi] = data[qi].apply(to_numeric).fillna(0)\n",
        "  data[qi] = data[qi].apply(get_number)\n",
        "\n",
        "\n",
        "# Create multi-category indicators for Q5\n",
        "for cat in [\"Partner\", \"Friends\", \"Siblings\", \"Co-worker\"]:\n",
        "    cat_name = f\"Q5{cat}\"\n",
        "    data[cat_name] = data[\"Q5\"].apply(lambda s: cat_in_s(s, cat))\n",
        "del data[\"Q5\"]\n",
        "\n",
        "\n",
        "# Change the Q6 column to be an individual ordinal categorical entry for each\n",
        "# item.\n",
        "q6_ordinal_vector = np.stack(data[\"Q6\"].apply(clean_q6).to_numpy(), axis=0)\n",
        "data['Q6Skyscraper'] = q6_ordinal_vector[:, 0]\n",
        "data['Q6Sport'] = q6_ordinal_vector[:, 1]\n",
        "data['Q6ArtMusic'] = q6_ordinal_vector[:, 2]\n",
        "data['Q6Carnival'] = q6_ordinal_vector[:, 3]\n",
        "data['Q6Cuisine'] = q6_ordinal_vector[:, 4]\n",
        "data['Q6Economic'] = q6_ordinal_vector[:, 5]\n",
        "del data[\"Q6\"]\n",
        "\n",
        "\n",
        "# Clean quotes in Q10 column\n",
        "data['Q10'] = data['Q10'].map(lambda x: filter_string(x))\n",
        "data['Q10'] = data['Q10'].fillna('')\n",
        "\n",
        "\n",
        "# Remove id field (irrelevant)\n",
        "data = data.drop('id', axis=1)\n",
        "\n",
        "\n",
        "# Finalize DataFrames (All of them will include the Label column for convention)\n",
        "# TODO: How exactly are we handling null values? Any null value we fill in with one of our own will have implications... default value problem\n",
        "df_full = data.fillna(0)\n",
        "df_no_q10 = df_full.drop('Q10', axis=1)\n",
        "df_q10 = df_full[['Q10', 'Label']]\n",
        "df_q1_to_q4_and_q6 = df_full[[\"Q1\", \"Q2\", \"Q3\", \"Q4\", \"Q6Skyscraper\", \"Q6Sport\", \"Q6ArtMusic\", \"Q6Carnival\", \"Q6Cuisine\", \"Q6Economic\", \"Label\"]]\n",
        "df_t = data['Label'] # Label only\n",
        "\n",
        "N = data.shape[0]\n",
        "K = len(df_t.unique())\n",
        "\n",
        "print(f\"We have {N} data points in the entire dataset, and {K} categories for our classification problem.\")\n",
        "print(f\"Our four categories are {df_t.unique()}\")"
      ],
      "metadata": {
        "id": "2bPjmA4ilJXz",
        "colab": {
          "base_uri": "https://localhost:8080/"
        },
        "outputId": "ccbb80d2-5435-4f64-87ec-6eec4a14c6ab"
      },
      "execution_count": 5,
      "outputs": [
        {
          "output_type": "stream",
          "name": "stdout",
          "text": [
            "We have 1416 data points in the entire dataset, and 4 categories for our classification problem.\n",
            "Our four categories are ['Dubai' 'Rio de Janeiro' 'New York City' 'Paris']\n"
          ]
        }
      ]
    },
    {
      "cell_type": "markdown",
      "source": [
        "# Exploring Question 10: Word Frequency and Usefulness"
      ],
      "metadata": {
        "id": "c2tOex0ueDCK"
      }
    },
    {
      "cell_type": "markdown",
      "source": [
        "NOTE: Early on, I wanted to see how much more information a bigger vocabulary could cover. That said, our exploration should still continue to take the train-valid-test split performance as the most realistic one since at the moment of testing, we will have unencountered data. I have chosen to keep the graphs that include larger vocabularies, but at this stage, the `train_vocab` can be taken as the most realistic one.\n",
        "\n",
        "# Looking at the spread of words\n",
        "For starters, we take a look at the perecentage of the sentences a word occurs in. If a word is observed often, then it is more worth to look at patterns for this word that may help us classify the sentence."
      ],
      "metadata": {
        "id": "gHyDEFafmjVO"
      }
    },
    {
      "cell_type": "code",
      "source": [
        "import random\n",
        "\n",
        "# Some constants so I don't forget how we split the data\n",
        "TRAIN_SLICE = 1024\n",
        "TRAINVALID_SLICE = 1316\n",
        "VALID_SLICE = TRAIN_SLICE + 292  # the actual slice will be [TRAIN_SLICE:VALID_SLICE]\n",
        "\n",
        "def _which_onehot(s):\n",
        "  \"\"\"\n",
        "    A helper function for one_hot that gives the one-hot encoding of hard-coded\n",
        "    city names.\n",
        "\n",
        "    Precondition:\n",
        "    - s is one of \"Dubai\", \"New York City\", \"Paris\", or \"Rio de Janeiro\"\n",
        "  \"\"\"\n",
        "  if s == \"Dubai\":\n",
        "    return np.array([1,0,0,0])\n",
        "  elif s == \"New York City\":\n",
        "    return np.array([0,1,0,0])\n",
        "  elif s == \"Paris\":\n",
        "    return np.array([0,0,1,0])\n",
        "  return np.array([0,0,0,1])\n",
        "\n",
        "\n",
        "def one_hot(array):\n",
        "    \"\"\"\n",
        "    A hard-coded function that converts a given array of cities into an array\n",
        "    of corresponding one-hot vectors.\n",
        "\n",
        "    Precondition:\n",
        "    - Array elements must be \"Dubai\", \"New York City\", \"Paris\", or \"Rio de Janeiro\"\n",
        "    \"\"\"\n",
        "    onehot = np.array([_which_onehot(x) for x in array])\n",
        "    return onehot\n",
        "\n",
        "\n",
        "def init_vocab(sentences):\n",
        "  \"\"\"\n",
        "    Construct a vocabulary from a list of given sentences\n",
        "\n",
        "    Precondition:\n",
        "    - Sentences are cleaned\n",
        "  \"\"\"\n",
        "  vocab = set()\n",
        "\n",
        "  for sentence in sentences:\n",
        "    words = sentence.split()\n",
        "    for word in words:\n",
        "      vocab = vocab.union(set([word]))\n",
        "\n",
        "  return vocab\n",
        "\n",
        "\n",
        "def make_bow(data, vocab, count_map=None):\n",
        "  \"\"\"\n",
        "    Create the bag of words representation of some given data (a matrix whose\n",
        "    columns represent sentences and their respective labels) using a specific\n",
        "    vocabulary. Can optionally take a hashmap that can count the number of\n",
        "    instances of each word in the vocab.\n",
        "\n",
        "    Precondition:\n",
        "    - The keys of count_map must be initialized to the words in vocab\n",
        "    - data is a numpy array\n",
        "  \"\"\"\n",
        "  # Reset count_map if provided so that multiple runs don't double count\n",
        "  if count_map:\n",
        "    for k in count_map.keys():\n",
        "      count_map[k] = 0\n",
        "\n",
        "  t = one_hot(data[:, 1])  # Use our helper to quickly make one-hot vectors for t\n",
        "  X = np.zeros([data.shape[0], len(vocab)])  # Initialize size of X\n",
        "\n",
        "  for n in range(t.shape[0]):\n",
        "    for d in range(len(vocab)):\n",
        "      if count_map: # If optional param count_map was provided, use it to store word counts\n",
        "        count_map[vocab[d]] += vocab[d] in data[n,0].split()  # Remember: We are storing the number of sentence this word appears in, so we just add 1 if it in a sentence, regardless of how many times\n",
        "      X[n,d] = vocab[d] in data[n,0].split()  # NOTE: This was incorrect when I didn't use split cause it was looking for any occurrence of the word in the entire sentence rather than checking word by word\n",
        "\n",
        "  return X, t\n",
        "\n",
        "\n",
        "\n",
        "# Initialize vocabularies\n",
        "full_dataset_vocab = list(init_vocab(df_q10['Q10'].to_numpy()))\n",
        "full_dataset_vocab_counts = {word: 0 for word in full_dataset_vocab}\n",
        "full_dataset_VOCAB_SIZE = len(full_dataset_vocab)\n",
        "\n",
        "train_vocab = list(init_vocab(df_q10['Q10'].to_numpy()[0:TRAIN_SLICE]))\n",
        "train_vocab_counts = {word: 0 for word in train_vocab}\n",
        "train_VOCAB_SIZE = len(train_vocab)\n",
        "\n",
        "trainvalid_vocab = list(init_vocab(df_q10['Q10'].to_numpy()[0:TRAINVALID_SLICE]))\n",
        "trainvalid_vocab_counts = {word: 0 for word in trainvalid_vocab}\n",
        "trainvalid_VOCAB_SIZE = len(trainvalid_vocab)\n",
        "\n",
        "print(f\"Our vocabulary (full dataset) has {full_dataset_VOCAB_SIZE} words\")\n",
        "print(f\"Our vocabulary (training data sliced 0:{TRAIN_SLICE}) has {train_VOCAB_SIZE} words\")\n",
        "print(f\"Our vocabulary (training + validation data sliced 0:{TRAINVALID_SLICE}) has {trainvalid_VOCAB_SIZE} words\")\n",
        "print()\n",
        "\n",
        "\n",
        "# Start with counting on just the training vocab\n",
        "q10_data = df_q10.to_numpy()\n",
        "X_train, t_train = make_bow(q10_data[0:TRAIN_SLICE,:], train_vocab, count_map=train_vocab_counts)  # Make bag of words and store counts of word for graphing purposes\n",
        "\n",
        "# Turn the dict into a list to process easily\n",
        "list_vocab_counts = [(k,v) for k,v in list(train_vocab_counts.items())]\n",
        "\n",
        "# Sort and get the top words with most occurrences\n",
        "list_vocab_counts.sort(key=lambda x: x[1], reverse=True)\n",
        "subset = list_vocab_counts[:30]  # Get top ? more entries\n",
        "subset = [(x[0], x[1]/X_train.shape[0]) for x in subset]  # comment out if raw counts are wanted\n",
        "\n",
        "# Setup chart\n",
        "fig, ax = plt.subplots()\n",
        "ax.bar(range(len(subset)), [t[1] for t in subset], align=\"center\")\n",
        "ax.set_xticks(range(len(subset)))\n",
        "ax.set_xticklabels([t[0] for t in subset])\n",
        "plt.xticks(rotation=90)  # Make labels easier to read\n",
        "#plt.title(\"Top 20 words with most occurrences in training data (counts)\")\n",
        "plt.title(\"Top 30 words with most occurrences using train vocab (proportions)\")\n",
        "\n",
        "plt.show()\n",
        "\n",
        "\n",
        "# Now doing this for trainvalid\n",
        "X_train, t_train = make_bow(q10_data[0:TRAINVALID_SLICE,:], trainvalid_vocab, count_map=trainvalid_vocab_counts)\n",
        "list_vocab_counts = [(k,v) for k,v in list(trainvalid_vocab_counts.items())]\n",
        "list_vocab_counts.sort(key=lambda x: x[1], reverse=True)\n",
        "subset = list_vocab_counts[:30]\n",
        "subset = [(x[0], x[1]/X_train.shape[0]) for x in subset]\n",
        "fig, ax = plt.subplots()\n",
        "ax.bar(range(len(subset)), [t[1] for t in subset], align=\"center\")\n",
        "ax.set_xticks(range(len(subset)))\n",
        "ax.set_xticklabels([t[0] for t in subset])\n",
        "plt.xticks(rotation=90)\n",
        "plt.title(\"Top 30 words with most occurrences using trainvalid vocab (proportions)\")\n",
        "\n",
        "plt.show()\n",
        "\n",
        "\n",
        "# Now doing this for whole set\n",
        "X_train, t_train = make_bow(q10_data, full_dataset_vocab, count_map=full_dataset_vocab_counts)\n",
        "list_vocab_counts = [(k,v) for k,v in list(full_dataset_vocab_counts.items())]\n",
        "list_vocab_counts.sort(key=lambda x: x[1], reverse=True)\n",
        "\n",
        "#subset = []  # This approach (attempts) to get all words that make up more than 1% of the observed data\n",
        "#for i in range(len(list_vocab_counts)):\n",
        "#  if list_vocab_counts[i][1]/X_train.shape[0] < 0.01:\n",
        "#    break\n",
        "#  subset.append((list_vocab_counts[i][0], (list_vocab_counts[i][1]/X_train.shape[0])))\n",
        "\n",
        "subset = list_vocab_counts[:30]\n",
        "subset = [(x[0], x[1]/X_train.shape[0]) for x in subset]\n",
        "fig, ax = plt.subplots()\n",
        "ax.bar(range(len(subset)), [t[1] for t in subset], align=\"center\") # Proportion\n",
        "#fig.set_figwidth(30)\n",
        "ax.set_xticks(range(len(subset)))\n",
        "ax.set_xticklabels([t[0] for t in subset])\n",
        "plt.xticks(rotation=90)\n",
        "plt.title(\"Top 30 words with most occurrences using full dataset vocab (proportions)\")\n",
        "#plt.title(\"Words with >=1% presence with most occurrences using full dataset vocab (proportions)\")\n",
        "\n",
        "plt.show()\n",
        "\n",
        "\n",
        "# SAME GRAPH AS THE ONE IMMEDIATELY ABOVE BUT WITH CUTOFF 5%\n",
        "subset = []  # This approach (attempts) to get all words that make up more than 5% of the observed data\n",
        "for i in range(len(list_vocab_counts)):\n",
        "  if list_vocab_counts[i][1]/X_train.shape[0] < 0.05:\n",
        "    break\n",
        "  subset.append((list_vocab_counts[i][0], (list_vocab_counts[i][1]/X_train.shape[0])))\n",
        "\n",
        "# subset = list_vocab_counts[:30]\n",
        "fig, ax = plt.subplots()\n",
        "#ax.bar(range(len(subset)), [t[1] for t in subset], align=\"center\") # Raw count\n",
        "ax.bar(range(len(subset)), [t[1] for t in subset], align=\"center\") # Proportion\n",
        "fig.set_figwidth(30)\n",
        "ax.set_xticks(range(len(subset)))\n",
        "ax.set_xticklabels([t[0] for t in subset])\n",
        "plt.xticks(rotation=90)\n",
        "#plt.title(\"Top 20 words with most occurrences using full dataset vocab (proportions)\")\n",
        "plt.title(\"Words with >=5% presence with most occurrences using full dataset vocab (proportions)\")\n",
        "\n",
        "plt.show()"
      ],
      "metadata": {
        "id": "OsqIukSh-4mD",
        "colab": {
          "base_uri": "https://localhost:8080/",
          "height": 1000
        },
        "outputId": "0731f2e0-5527-49ed-d854-2067dec64c6d"
      },
      "execution_count": 21,
      "outputs": [
        {
          "output_type": "stream",
          "name": "stdout",
          "text": [
            "Our vocabulary (full dataset) has 1616 words\n",
            "Our vocabulary (training data sliced 0:1024) has 1303 words\n",
            "Our vocabulary (training + validation data sliced 0:1316) has 1544 words\n",
            "\n"
          ]
        },
        {
          "output_type": "display_data",
          "data": {
            "text/plain": [
              "<Figure size 640x480 with 1 Axes>"
            ],
            "image/png": "[encoded data removed]"
          },
          "metadata": {}
        },
        {
          "output_type": "display_data",
          "data": {
            "text/plain": [
              "<Figure size 640x480 with 1 Axes>"
            ],
            "image/png": "[encoded data removed]"
          },
          "metadata": {}
        },
        {
          "output_type": "display_data",
          "data": {
            "text/plain": [
              "<Figure size 640x480 with 1 Axes>"
            ],
            "image/png": "[encoded data removed]"
          },
          "metadata": {}
        },
        {
          "output_type": "display_data",
          "data": {
            "text/plain": [
              "<Figure size 3000x480 with 1 Axes>"
            ],
            "image/png": "[encoded data removed]"
          },
          "metadata": {}
        }
      ]
    },
    {
      "cell_type": "markdown",
      "source": [
        "Most of these words aren't very informative; the presence of 'the' for example does not provide any information about the kind of sentence we may have. For a measure of \"usefulness\", we look at words that are not \"grammatical constructs\" (if that is the right word).\n",
        "\n",
        "We start with the name of the cities. A strong presence of the word means the feature is reliable (it can help us with predictions more often). If these percentages are low, then it is not a common enough feature of the sentence to completely base a prediction off of."
      ],
      "metadata": {
        "id": "plnxSSwoxgu_"
      }
    },
    {
      "cell_type": "code",
      "source": [
        "# Looking at how often the name of the city appears in quotes\n",
        "\n",
        "dubai = df_q10[df_q10['Label'] == 'Dubai']\n",
        "n_dubai = dubai.shape[0]\n",
        "n_dubai_with_word = dubai[dubai['Q10'].str.contains(\"dubai\")].shape[0]\n",
        "print(f\"{round((n_dubai_with_word/n_dubai) * 100)}% entries \\\n",
        "that were classified as Dubai have the word 'dubai' in their quote.\")\n",
        "\n",
        "newyork = df_q10[df_q10['Label'] == 'New York City']\n",
        "n_newyork = newyork.shape[0]\n",
        "n_newyork_with_word = newyork[newyork['Q10'].str.contains(\"york\")].shape[0]\n",
        "print(f\"{round((n_newyork_with_word/n_newyork) * 100)}% entries \\\n",
        "that were classified as New York have the word 'york' in their quote.\")\n",
        "\n",
        "paris = df_q10[df_q10['Label'] == 'Paris']\n",
        "n_paris = paris.shape[0]\n",
        "n_paris_with_word = paris[paris['Q10'].str.contains(\"paris\")].shape[0]\n",
        "print(f\"{round((n_paris_with_word/n_paris) * 100)}% entries \\\n",
        "that were classified as Paris have the word 'paris' in their quote.\")\n",
        "\n",
        "rio = df_q10[df_q10['Label'] == 'Rio de Janeiro']\n",
        "n_rio = rio.shape[0]\n",
        "n_rio_with_word = rio[rio['Q10'].str.contains(\"rio\")].shape[0]\n",
        "print(f\"{round((n_rio_with_word/n_rio) * 100)}% entries \\\n",
        "that were classified as Rio have the word 'rio' in their quote.\")"
      ],
      "metadata": {
        "colab": {
          "base_uri": "https://localhost:8080/"
        },
        "id": "JNm_PEhuVnGX",
        "outputId": "ced51b5c-ab63-4c5e-8bc9-2b54a20ac5bb"
      },
      "execution_count": 8,
      "outputs": [
        {
          "output_type": "stream",
          "name": "stdout",
          "text": [
            "17% entries that were classified as Dubai have the word 'dubai' in their quote.\n",
            "24% entries that were classified as New York have the word 'york' in their quote.\n",
            "17% entries that were classified as Paris have the word 'paris' in their quote.\n",
            "13% entries that were classified as Rio have the word 'rio' in their quote.\n"
          ]
        }
      ]
    },
    {
      "cell_type": "markdown",
      "source": [
        "It is trivial that the name of the city *only* occurs in quotes related to that city. We would not expect to see \"Paris\" in a quote about Dubai. We can double check this:"
      ],
      "metadata": {
        "id": "5TwDyAkxySzH"
      }
    },
    {
      "cell_type": "code",
      "source": [
        "newyork = df_q10[df_q10['Label'] == 'New York City']\n",
        "n_newyork = newyork.shape[0]\n",
        "n_newyork_with_word = newyork[newyork['Q10'].str.contains(\"dubai\")].shape[0]\n",
        "print(f\"{(n_newyork_with_word/n_newyork) * 100}% entries \\\n",
        "that were classified as New York have the word 'dubai' in their quote.\")\n",
        "\n",
        "paris = df_q10[df_q10['Label'] == 'Paris']\n",
        "n_paris = paris.shape[0]\n",
        "n_paris_with_word = paris[paris['Q10'].str.contains(\"dubai\")].shape[0]\n",
        "print(f\"{(n_paris_with_word/n_paris) * 100}% entries \\\n",
        "that were classified as Paris have the word 'dubai' in their quote.\")\n",
        "\n",
        "rio = df_q10[df_q10['Label'] == 'Rio de Janeiro']\n",
        "n_rio = rio.shape[0]\n",
        "n_rio_with_word = rio[rio['Q10'].str.contains(\"dubai\")].shape[0]\n",
        "print(f\"{(n_rio_with_word/n_rio) * 100}% entries \\\n",
        "that were classified as Rio have the word 'dubai' in their quote.\")"
      ],
      "metadata": {
        "colab": {
          "base_uri": "https://localhost:8080/"
        },
        "id": "Mer5N1qOyg_l",
        "outputId": "5b93f46e-f2a1-44e6-bc1a-f6fd41a5b0d7"
      },
      "execution_count": 9,
      "outputs": [
        {
          "output_type": "stream",
          "name": "stdout",
          "text": [
            "0.0% entries that were classified as New York have the word 'dubai' in their quote.\n",
            "0.0% entries that were classified as Paris have the word 'dubai' in their quote.\n",
            "0.0% entries that were classified as Rio have the word 'dubai' in their quote.\n"
          ]
        }
      ]
    },
    {
      "cell_type": "markdown",
      "source": [
        "Just for one city, we can see that the percentage that its name encounters in other cities' quotes is zero (without rounding).\n",
        "\n",
        "Now for words that actually occur commonly, we can check what kind of inferences they make. If a feature occurs commonly in the data, it means that it is more reliable. We choose \"dreams\", \"love\", and \"concrete\". Note that these words itself make up at most 7% of all quotes in the dataset, but it would still help to see their associations with certain cities."
      ],
      "metadata": {
        "id": "vBNuvE6eywLf"
      }
    },
    {
      "cell_type": "code",
      "source": [
        "# Looking at associations of other \"more useful\" words\n",
        "# So \"the\" is not included but \"love\" is as an example\n",
        "\n",
        "city = df_q10[df_q10['Q10'].str.contains(\"city\")]\n",
        "n_city = city.shape[0]\n",
        "city_in_dubai = city[city['Label'] == \"Dubai\"]\n",
        "city_in_newyork = city[city['Label'] == \"New York City\"]\n",
        "city_in_paris = city[city['Label'] == \"Paris\"]\n",
        "city_in_rio = city[city['Label'] == \"Rio de Janeiro\"]\n",
        "\n",
        "print(f\"The word 'city' is distributed among the four categories as follows:\")\n",
        "print(f\"- Dubai: {(city_in_dubai.shape[0]/n_city) * 100}%\")\n",
        "print(f\"- New York City: {(city_in_newyork.shape[0]/n_city) * 100}%\")\n",
        "print(f\"- Paris: {(city_in_paris.shape[0]/n_city) * 100}%\")\n",
        "print(f\"- Rio de Janeiro: {(city_in_rio.shape[0])/n_city * 100}%\")\n",
        "\n",
        "print()\n",
        "print()\n",
        "\n",
        "\n",
        "dreams = df_q10[df_q10['Q10'].str.contains(\"dreams\")]\n",
        "n_dreams = dreams.shape[0]\n",
        "dreams_in_dubai = dreams[dreams['Label'] == \"Dubai\"]\n",
        "dreams_in_newyork = dreams[dreams['Label'] == \"New York City\"]\n",
        "dreams_in_paris = dreams[dreams['Label'] == \"Paris\"]\n",
        "dreams_in_rio = dreams[dreams['Label'] == \"Rio de Janeiro\"]\n",
        "\n",
        "print(f\"The word 'dreams' is distributed among the four categories as follows:\")\n",
        "print(f\"- Dubai: {(dreams_in_dubai.shape[0]/n_dreams) * 100}%\")\n",
        "print(f\"- New York City: {(dreams_in_newyork.shape[0]/n_dreams) * 100}%\")\n",
        "print(f\"- Paris: {(dreams_in_paris.shape[0]/n_dreams) * 100}%\")\n",
        "print(f\"- Rio de Janeiro: {(dreams_in_rio.shape[0])/n_dreams * 100}%\")\n",
        "\n",
        "print()\n",
        "print()\n",
        "\n",
        "love = df_q10[df_q10['Q10'].str.contains(\"love\")]\n",
        "n_love = love.shape[0]\n",
        "love_in_dubai = love[love['Label'] == \"Dubai\"]\n",
        "love_in_newyork = love[love['Label'] == \"New York City\"]\n",
        "love_in_paris = love[love['Label'] == \"Paris\"]\n",
        "love_in_rio = love[love['Label'] == \"Rio de Janeiro\"]\n",
        "\n",
        "print(f\"The word 'love' is distributed among the four categories as follows:\")\n",
        "print(f\"- Dubai: {(love_in_dubai.shape[0]/n_love) * 100}%\")\n",
        "print(f\"- New York City: {(love_in_newyork.shape[0]/n_love) * 100}%\")\n",
        "print(f\"- Paris: {(love_in_paris.shape[0]/n_love) * 100}%\")\n",
        "print(f\"- Rio de Janeiro: {(love_in_rio.shape[0])/n_love * 100}%\")\n",
        "\n",
        "print()\n",
        "print()\n",
        "\n",
        "concrete = df_q10[df_q10['Q10'].str.contains(\"concrete\")]\n",
        "n_concrete = concrete.shape[0]\n",
        "concrete_in_dubai = concrete[concrete['Label'] == \"Dubai\"]\n",
        "concrete_in_newyork = concrete[concrete['Label'] == \"New York City\"]\n",
        "concrete_in_paris = concrete[concrete['Label'] == \"Paris\"]\n",
        "concrete_in_rio = concrete[concrete['Label'] == \"Rio de Janeiro\"]\n",
        "\n",
        "print(f\"The word 'concrete' is distributed among the four categories as follows:\")\n",
        "print(f\"- Dubai: {(concrete_in_dubai.shape[0]/n_concrete) * 100}%\")\n",
        "print(f\"- New York City: {(concrete_in_newyork.shape[0]/n_concrete) * 100}%\")\n",
        "print(f\"- Paris: {(concrete_in_paris.shape[0]/n_concrete) * 100}%\")\n",
        "print(f\"- Rio de Janeiro: {(concrete_in_rio.shape[0])/n_concrete * 100}%\")\n",
        "\n",
        "print()\n",
        "print()\n",
        "\n",
        "rich = df_q10[df_q10['Q10'].str.contains(\"rich\")]\n",
        "n_rich = rich.shape[0]\n",
        "rich_in_dubai = rich[rich['Label'] == \"Dubai\"]\n",
        "rich_in_newyork = rich[rich['Label'] == \"New York City\"]\n",
        "rich_in_paris = rich[rich['Label'] == \"Paris\"]\n",
        "rich_in_rio = rich[rich['Label'] == \"Rio de Janeiro\"]\n",
        "\n",
        "print(f\"The word 'rich' is distributed among the four categories as follows:\")\n",
        "print(f\"- Dubai: {(rich_in_dubai.shape[0]/n_rich) * 100}%\")\n",
        "print(f\"- New York City: {(rich_in_newyork.shape[0]/n_rich) * 100}%\")\n",
        "print(f\"- Paris: {(rich_in_paris.shape[0]/n_rich) * 100}%\")\n",
        "print(f\"- Rio de Janeiro: {(rich_in_rio.shape[0])/n_rich * 100}%\")"
      ],
      "metadata": {
        "colab": {
          "base_uri": "https://localhost:8080/"
        },
        "id": "blDakJojhsx_",
        "outputId": "86bdef4e-faf4-400d-eb67-e8eca67b8f9e"
      },
      "execution_count": 10,
      "outputs": [
        {
          "output_type": "stream",
          "name": "stdout",
          "text": [
            "The word 'city' is distributed among the four categories as follows:\n",
            "- Dubai: 15.517241379310345%\n",
            "- New York City: 24.82758620689655%\n",
            "- Paris: 46.206896551724135%\n",
            "- Rio de Janeiro: 13.448275862068964%\n",
            "\n",
            "\n",
            "The word 'dreams' is distributed among the four categories as follows:\n",
            "- Dubai: 7.317073170731707%\n",
            "- New York City: 90.2439024390244%\n",
            "- Paris: 0.0%\n",
            "- Rio de Janeiro: 2.4390243902439024%\n",
            "\n",
            "\n",
            "The word 'love' is distributed among the four categories as follows:\n",
            "- Dubai: 1.6129032258064515%\n",
            "- New York City: 4.032258064516129%\n",
            "- Paris: 87.09677419354838%\n",
            "- Rio de Janeiro: 7.258064516129033%\n",
            "\n",
            "\n",
            "The word 'concrete' is distributed among the four categories as follows:\n",
            "- Dubai: 0.0%\n",
            "- New York City: 100.0%\n",
            "- Paris: 0.0%\n",
            "- Rio de Janeiro: 0.0%\n",
            "\n",
            "\n",
            "The word 'rich' is distributed among the four categories as follows:\n",
            "- Dubai: 89.28571428571429%\n",
            "- New York City: 5.357142857142857%\n",
            "- Paris: 1.7857142857142856%\n",
            "- Rio de Janeiro: 3.571428571428571%\n"
          ]
        }
      ]
    },
    {
      "cell_type": "markdown",
      "source": [
        "We observe that when we see the word \"love\", it is a lot more likely to be in Paris than in other cities. Let's have a look at how likely the word \"love\" is to occur in ALL quotes classified as Paris."
      ],
      "metadata": {
        "id": "MYd0zGPIj_eF"
      }
    },
    {
      "cell_type": "code",
      "source": [
        "paris = df_q10[df_q10['Label'] == 'Paris']\n",
        "n_paris = paris.shape[0]\n",
        "n_paris_with_word = paris[paris['Q10'].str.contains(\"love\")].shape[0]\n",
        "print(f\"{round((n_paris_with_word/n_paris) * 100)}% entries \\\n",
        "that were classified as Paris have the word 'love' in their quote.\")\n",
        "\n",
        "newyork = df_q10[df_q10['Label'] == 'New York City']\n",
        "n_newyork = newyork.shape[0]\n",
        "n_newyork_with_word = newyork[newyork['Q10'].str.contains(\"concrete\")].shape[0]\n",
        "print(f\"{round((n_newyork_with_word/n_newyork) * 100)}% entries \\\n",
        "that were classified as New York have the word 'concrete' in their quote.\")"
      ],
      "metadata": {
        "colab": {
          "base_uri": "https://localhost:8080/"
        },
        "id": "A0vNVCjgj_PI",
        "outputId": "668954b2-6d12-4be1-c659-440a2b64a77b"
      },
      "execution_count": 11,
      "outputs": [
        {
          "output_type": "stream",
          "name": "stdout",
          "text": [
            "31% entries that were classified as Paris have the word 'love' in their quote.\n",
            "15% entries that were classified as New York have the word 'concrete' in their quote.\n"
          ]
        }
      ]
    },
    {
      "cell_type": "markdown",
      "source": [
        "# Making Predictions (scikit-learn)\n",
        "\n",
        "Note that our bag of words just indicates whether a word is present in a sentence or not. We are not looking at word counts (since most of our quotes are not very long). This is why we use a Bernoulli Naive Bayes model compared to a Multinomial one.\n",
        "\n",
        "Now I will define the $N \\times D$ data matrix `X`, the $N \\times K$ target matrix `t`, and split into training, validation, and test set accordingly."
      ],
      "metadata": {
        "id": "kdGTpfk82AMP"
      }
    },
    {
      "cell_type": "code",
      "source": [
        "from sklearn.naive_bayes import BernoulliNB\n",
        "\n",
        "def accuracy(y, t):\n",
        "  return np.mean(y == t)\n",
        "\n",
        "def get_num_from_onehot(arr):\n",
        "  return [index+1 for index, item in enumerate(arr) if item == 1][0]\n",
        "\n",
        "\n",
        "# Initialize data split\n",
        "q10_data = df_q10.sample(frac=1).to_numpy()  # Shuffle\n",
        "\n",
        "# Separate test data so that we can jumble training and validation set without worry\n",
        "q10_trainvalid_data = q10_data[:VALID_SLICE,:]\n",
        "q10_test_data = q10_data[VALID_SLICE:,:]\n",
        "X_test, t_test = make_bow(q10_test_data, train_vocab)\n",
        "t_test_copy = np.apply_along_axis(get_num_from_onehot, 1, t_test)\n",
        "\n",
        "# Initialize training and valid set\n",
        "X_train, t_train = make_bow(q10_trainvalid_data[:TRAIN_SLICE,:], train_vocab)\n",
        "X_valid, t_valid = make_bow(q10_trainvalid_data[TRAIN_SLICE:,:], train_vocab)\n",
        "t_train_copy = np.apply_along_axis(get_num_from_onehot, 1, t_train)\n",
        "t_valid_copy = np.apply_along_axis(get_num_from_onehot, 1, t_valid)\n",
        "\n",
        "# Just printing out some information about the split\n",
        "print(f\"In total, we have {q10_data.shape[0]} items. Our split is as follows:\")\n",
        "print(f\"\\t- X_train: {X_train.shape[0]} ({round((X_train.shape[0]/q10_data.shape[0]) * 100, 2)}%)\")\n",
        "print(f\"\\t- X_valid: {X_valid.shape[0]} ({round((X_valid.shape[0]/q10_data.shape[0]) * 100, 2)}%)\")\n",
        "print(f\"\\t- X_test: {X_test.shape[0]} ({round((X_test.shape[0]/q10_data.shape[0]) * 100, 2)}%)\")\n",
        "print()\n",
        "\n",
        "\n",
        "# Optimize the hyperparameter alpha, which defines the strenght of Laplace Smoothing\n",
        "alpha_vals = [10 ** i for i in [-2, -1]] + [2**i for i in range(8)]  # Go up by powers of two\n",
        "# NOTE: SKLearn's default is 1, and while we could go lower than 10^-2, their\n",
        "# documentation suggests taht values very close to 0 can give numerical errors.\n",
        "\n",
        "\n",
        "best_alpha, best_acc = None, None\n",
        "valid_accs = []\n",
        "# Loop over all possible alpha values and see which one gives us the best validation accuracy\n",
        "for alpha in alpha_vals:\n",
        "  model = BernoulliNB(alpha=alpha, force_alpha = True)\n",
        "  model.fit(X_train, t_train_copy)\n",
        "  #y_train = model.predict(X_train)\n",
        "  y_valid = model.predict(X_valid)\n",
        "\n",
        "  #train_acc = accuracy(y_train, t_train_copy)\n",
        "  valid_acc = accuracy(y_valid, t_valid_copy)\n",
        "  valid_accs.append(valid_acc)\n",
        "\n",
        "  if not best_acc or valid_acc > best_acc:  # Initialize or replace if needed\n",
        "    best_acc = valid_acc\n",
        "    best_alpha = alpha\n",
        "\n",
        "# Plot validation accuracy of each alpha score\n",
        "plt.plot(alpha_vals, valid_accs)\n",
        "plt.title(\"Validation accuracy as alpha increases\")\n",
        "plt.show()\n",
        "\n",
        "# Get average validation and test accuracy for best alpha\n",
        "run_valid_sum = 0\n",
        "run_test_sum = 0\n",
        "RUNS = 10\n",
        "\n",
        "for i in range(RUNS):\n",
        "  model = BernoulliNB(alpha=best_alpha, force_alpha = True)\n",
        "  model.fit(X_train, t_train_copy)\n",
        "  y_valid = model.predict(X_valid)\n",
        "  y_test = model.predict(X_test)\n",
        "\n",
        "  run_valid_sum += accuracy(t_valid_copy, y_valid)\n",
        "  run_test_sum += accuracy(t_test_copy, y_test)\n",
        "\n",
        "  np.random.shuffle(q10_trainvalid_data)\n",
        "  X_train, t_train = make_bow(q10_trainvalid_data[:TRAIN_SLICE,:], train_vocab)\n",
        "  X_valid, t_valid = make_bow(q10_trainvalid_data[TRAIN_SLICE:,:], train_vocab)\n",
        "  t_train_copy = np.apply_along_axis(get_num_from_onehot, 1, t_train)\n",
        "  t_valid_copy = np.apply_along_axis(get_num_from_onehot, 1, t_valid)\n",
        "\n",
        "\n",
        "avg_valid_acc = run_valid_sum/RUNS\n",
        "avg_test_acc = run_test_sum/RUNS\n",
        "\n",
        "print()\n",
        "print(f\"The best alpha value is {best_alpha}\")\n",
        "print(f\"The average validation accuracy is {avg_valid_acc}\")\n",
        "print(f\"The average test accuracy is {avg_test_acc}\")"
      ],
      "metadata": {
        "id": "JYGgjUpi__XV",
        "colab": {
          "base_uri": "https://localhost:8080/",
          "height": 608
        },
        "outputId": "56699661-e90c-48d9-9f54-6d9dc511dc47"
      },
      "execution_count": 99,
      "outputs": [
        {
          "output_type": "stream",
          "name": "stdout",
          "text": [
            "In total, we have 1416 items. Our split is as follows:\n",
            "\t- X_train: 1024 (72.32%)\n",
            "\t- X_valid: 292 (20.62%)\n",
            "\t- X_test: 100 (7.06%)\n",
            "\n"
          ]
        },
        {
          "output_type": "display_data",
          "data": {
            "text/plain": [
              "<Figure size 640x480 with 1 Axes>"
            ],
            "image/png": "[encoded data removed]"
          },
          "metadata": {}
        },
        {
          "output_type": "stream",
          "name": "stdout",
          "text": [
            "\n",
            "The best alpha value is 0.1\n",
            "The average validation accuracy is 0.7284246575342467\n",
            "The average test accuracy is 0.688\n"
          ]
        }
      ]
    },
    {
      "cell_type": "code",
      "source": [
        "# Initialize data split\n",
        "q10_data = df_q10.sample(frac=1).to_numpy()  # Shuffle\n",
        "\n",
        "# Separate test data so that we can jumble training and validation set without worry\n",
        "q10_trainvalid_data = q10_data[:VALID_SLICE,:]\n",
        "q10_test_data = q10_data[VALID_SLICE:,:]\n",
        "X_test, t_test = make_bow(q10_test_data, full_dataset_vocab)\n",
        "t_test_copy = np.apply_along_axis(get_num_from_onehot, 1, t_test)\n",
        "\n",
        "# Initialize training and valid set\n",
        "X_train, t_train = make_bow(q10_trainvalid_data[:TRAIN_SLICE,:], full_dataset_vocab)\n",
        "X_valid, t_valid = make_bow(q10_trainvalid_data[TRAIN_SLICE:,:], full_dataset_vocab)\n",
        "t_train_copy = np.apply_along_axis(get_num_from_onehot, 1, t_train)\n",
        "t_valid_copy = np.apply_along_axis(get_num_from_onehot, 1, t_valid)\n",
        "\n",
        "# Just printing out some information about the split\n",
        "print(f\"In total, we have {q10_data.shape[0]} items. Our split is as follows:\")\n",
        "print(f\"\\t- X_train: {X_train.shape[0]} ({round((X_train.shape[0]/q10_data.shape[0]) * 100, 2)}%)\")\n",
        "print(f\"\\t- X_valid: {X_valid.shape[0]} ({round((X_valid.shape[0]/q10_data.shape[0]) * 100, 2)}%)\")\n",
        "print(f\"\\t- X_test: {X_test.shape[0]} ({round((X_test.shape[0]/q10_data.shape[0]) * 100, 2)}%)\")\n",
        "print()\n",
        "\n",
        "\n",
        "# Optimize the hyperparameter alpha, which defines the strenght of Laplace Smoothing\n",
        "alpha_vals = [10 ** i for i in [-2, -1]] + [2**i for i in range(8)]  # Go up by powers of two\n",
        "# NOTE: SKLearn's default is 1, and while we could go lower than 10^-2, their\n",
        "# documentation suggests taht values very close to 0 can give numerical errors.\n",
        "\n",
        "\n",
        "best_alpha, best_acc = None, None\n",
        "\n",
        "# Loop over all possible alpha values and see which one gives us the best validation accuracy\n",
        "for alpha in alpha_vals:\n",
        "  model = BernoulliNB(alpha=alpha, force_alpha = False)\n",
        "  model.fit(X_train, t_train_copy)\n",
        "  #y_train = model.predict(X_train)\n",
        "  y_valid = model.predict(X_valid)\n",
        "\n",
        "  #train_acc = accuracy(y_train, t_train_copy)\n",
        "  valid_acc = accuracy(y_valid, t_valid_copy)\n",
        "\n",
        "  if not best_acc or valid_acc > best_acc:  # Initialize or replace if needed\n",
        "    best_acc = valid_acc\n",
        "    best_alpha = alpha\n",
        "\n",
        "# Get average validation and test accuracy for best alpha\n",
        "run_valid_sum = 0\n",
        "run_test_sum = 0\n",
        "RUNS = 10\n",
        "\n",
        "for i in range(RUNS):\n",
        "  model = BernoulliNB(alpha=best_alpha, force_alpha = False)\n",
        "  model.fit(X_train, t_train_copy)\n",
        "  y_valid = model.predict(X_valid)\n",
        "  y_test = model.predict(X_test)\n",
        "\n",
        "  run_valid_sum += accuracy(t_valid_copy, y_valid)\n",
        "  run_test_sum += accuracy(t_test_copy, y_test)\n",
        "\n",
        "  np.random.shuffle(q10_trainvalid_data)\n",
        "  X_train, t_train = make_bow(q10_trainvalid_data[:TRAIN_SLICE,:], full_dataset_vocab)\n",
        "  X_valid, t_valid = make_bow(q10_trainvalid_data[TRAIN_SLICE:,:], full_dataset_vocab)\n",
        "  t_train_copy = np.apply_along_axis(get_num_from_onehot, 1, t_train)\n",
        "  t_valid_copy = np.apply_along_axis(get_num_from_onehot, 1, t_valid)\n",
        "\n",
        "\n",
        "avg_valid_acc = run_valid_sum/RUNS\n",
        "avg_test_acc = run_test_sum/RUNS\n",
        "\n",
        "print()\n",
        "print(f\"The best alpha value is {best_alpha}\")\n",
        "print(f\"The average validation accuracy is {avg_valid_acc}\")\n",
        "print(f\"The average test accuracy is {avg_test_acc}\")"
      ],
      "metadata": {
        "colab": {
          "base_uri": "https://localhost:8080/"
        },
        "id": "zv2WzJTd7LtB",
        "outputId": "8f5b4036-ac1f-41b7-cd26-d27fb3afb094"
      },
      "execution_count": 159,
      "outputs": [
        {
          "output_type": "stream",
          "name": "stdout",
          "text": [
            "In total, we have 1416 items. Our split is as follows:\n",
            "\t- X_train: 1024 (72.32%)\n",
            "\t- X_valid: 292 (20.62%)\n",
            "\t- X_test: 100 (7.06%)\n",
            "\n",
            "\n",
            "The best alpha value is 0.1\n",
            "The average validation accuracy is 0.7784246575342466\n",
            "The average test accuracy is 0.8469999999999999\n"
          ]
        }
      ]
    },
    {
      "cell_type": "markdown",
      "source": [
        "With a trained model, we can examine the conditional probabilities $P(w | c)$ for each word in the vocabulary. Let's look at the words with the highest probabilities for each category..."
      ],
      "metadata": {
        "id": "5RfFdYUu9LOi"
      }
    },
    {
      "cell_type": "code",
      "source": [
        "MIN_PROB = 0.05  # cutoff\n",
        "\n",
        "# Get conditional probs from model\n",
        "dubai_prob = np.exp(model.feature_log_prob_[0, :])\n",
        "nyc_prob = np.exp(model.feature_log_prob_[1, :])\n",
        "paris_prob = np.exp(model.feature_log_prob_[2, :])\n",
        "rio_prob = np.exp(model.feature_log_prob_[3, :])\n",
        "\n",
        "dubai_zipped = list(zip(full_dataset_vocab, dubai_prob))\n",
        "dubai_sorted_zip = sorted(dubai_zipped, key=lambda x: x[1], reverse=True)\n",
        "dubai_final = [x for x in dubai_sorted_zip if x[1] > MIN_PROB]\n",
        "print(\"Below are all the sorted word probabilities that occur for words that would be categorized as Dubai\")\n",
        "print(dubai_final)\n",
        "print()\n",
        "\n",
        "nyc_zipped = list(zip(full_dataset_vocab, nyc_prob))\n",
        "nyc_sorted_zip = sorted(nyc_zipped, key=lambda x: x[1], reverse=True)\n",
        "nyc_final = [x for x in nyc_sorted_zip if x[1] > MIN_PROB]\n",
        "print(\"Below are all the sorted word probabilities that occur for words that would be categorized as New York City\")\n",
        "print(nyc_final)\n",
        "print()\n",
        "\n",
        "paris_zipped = list(zip(full_dataset_vocab, paris_prob))\n",
        "paris_sorted_zip = sorted(paris_zipped, key=lambda x: x[1], reverse=True)\n",
        "paris_final = [x for x in paris_sorted_zip if x[1] > MIN_PROB]\n",
        "print(\"Below are all the sorted word probabilities that occur for words that would be categorized as Paris\")\n",
        "print(paris_final)\n",
        "print()\n",
        "\n",
        "rio_zipped = list(zip(full_dataset_vocab, rio_prob))\n",
        "rio_sorted_zip = sorted(rio_zipped, key=lambda x: x[1], reverse=True)\n",
        "rio_final = [x for x in rio_sorted_zip if x[1] > MIN_PROB]\n",
        "print(\"Below are all the sorted word probabilities that occur for words that would be categorized as Rio de Janeiro\")\n",
        "print(rio_final)"
      ],
      "metadata": {
        "colab": {
          "base_uri": "https://localhost:8080/"
        },
        "id": "Jt1nZIaw9KuW",
        "outputId": "2a844c78-80e4-4980-e660-dd9300cbaeee"
      },
      "execution_count": 160,
      "outputs": [
        {
          "output_type": "stream",
          "name": "stdout",
          "text": [
            "Below are all the sorted word probabilities that occur for words that would be categorized as Dubai\n",
            "[('the', 0.3063516653756779), ('is', 0.16692486444616575), ('dubai', 0.16692486444616575), ('to', 0.16305189775367934), ('of', 0.15143299767621998), ('and', 0.13206816421378778), ('rich', 0.12819519752130137), ('a', 0.12819519752130137), ('city', 0.12432223082881491), ('money', 0.11270333075135557), ('in', 0.10108443067389623), ('habibi', 0.06235476374903176), ('come', 0.06235476374903176), ('not', 0.05460883036405888), ('world', 0.05073586367157242)]\n",
            "\n",
            "Below are all the sorted word probabilities that occur for words that would be categorized as New York City\n",
            "[('of', 0.27941176470588247), ('the', 0.26055806938159887), ('new', 0.25678733031674217), ('york', 0.23039215686274514), ('dreams', 0.20776772247360487), ('city', 0.1889140271493213), ('made', 0.1813725490196079), ('where', 0.1813725490196079), ('are', 0.1738310708898944), ('concrete', 0.16251885369532426), ('jungle', 0.1323529411764706), ('in', 0.12104072398190048), ('that', 0.12104072398190048), ('never', 0.10972850678733033), ('is', 0.1059577677224736), ('sleeps', 0.10218702865761689), ('to', 0.09464555052790351), ('a', 0.09087481146304677), ('you', 0.07579185520361993), ('and', 0.07202111613876322), ('big', 0.0644796380090498), ('im', 0.06070889894419306), ('apple', 0.053167420814479636)]\n",
            "\n",
            "Below are all the sorted word probabilities that occur for words that would be categorized as Paris\n",
            "[('of', 0.37752721617418367), ('city', 0.37752721617418367), ('love', 0.3192068429237949), ('the', 0.2919906687402801), ('paris', 0.1597978227060654), ('is', 0.12091757387247283), ('and', 0.11314152410575433), ('in', 0.09370139968895803), ('a', 0.09370139968895803), ('to', 0.07426127527216178), ('tower', 0.06648522550544327), ('eiffel', 0.062597200622084), ('la', 0.05870917573872476), ('baguette', 0.05093312597200623), ('you', 0.05093312597200623), ('romance', 0.05093312597200623)]\n",
            "\n",
            "Below are all the sorted word probabilities that occur for words that would be categorized as Rio de Janeiro\n",
            "[('the', 0.19696969696969704), ('a', 0.1355446355446356), ('of', 0.1314496314496315), ('rio', 0.12735462735462738), ('and', 0.11506961506961508), ('is', 0.10278460278460283), ('city', 0.09868959868959871), ('in', 0.09459459459459461), ('life', 0.09049959049959051), ('to', 0.08230958230958235), ('its', 0.07821457821457825), ('football', 0.07821457821457825), ('de', 0.06592956592956593), ('janeiro', 0.06183456183456186), ('brazil', 0.06183456183456186), ('carnival', 0.05773955773955775), ('beautiful', 0.05364455364455365), ('party', 0.05364455364455365), ('soccer', 0.05364455364455365)]\n"
          ]
        }
      ]
    },
    {
      "cell_type": "markdown",
      "source": [
        "Attempting to construct a model with the few words I chose:\n",
        "\n",
        "Words List: `[dubai, rich, city, rio, love, dreams, paris, york, football, tower, concrete, money, baguette, brazil, carnival, jungle, eiffel, habibi, oil, big, apple]`"
      ],
      "metadata": {
        "id": "UKWMEwfjSX5B"
      }
    },
    {
      "cell_type": "markdown",
      "source": [
        "# Trying Bernoulli Naive Bayes on Other Features\n",
        "\n",
        "Note that we have to binarize each question. Here are the approaches taken:\n",
        "- Questions 1-4 are similar in that they are rankings. For this we can simply take a one-hot vector of size `MAX_RANKING` and set the $i$'th entry to 1 depending on what the rating was.\n",
        "- Question 5 was already split into individual binary variables.\n",
        "- Question 6 first has each entry \"Skyscraper\", \"Sports\", etc. have its ranking turned into its own vector, then this was made one hot. So, $\\text{rank}_{i}^{p}$ represents whether the word $i$ was ranked $p$ or not."
      ],
      "metadata": {
        "id": "-Hf74aD0SaVN"
      }
    },
    {
      "cell_type": "code",
      "source": [
        "fresh_data = pd.read_csv(\"clean_dataset.csv\")\n",
        "test_data = df_full.sample(frac=1)\n",
        "\n",
        "def binarize_ranking(pd_col):\n",
        "  \"\"\"\n",
        "    Turn a column of integers into a column of one-hot vectors\n",
        "\n",
        "    Preconditions:\n",
        "    - Column elements are not strings\n",
        "    - Column elements are positive integers\n",
        "  \"\"\"\n",
        "\n",
        "  return pd_col.map(lambda x: np.array([int(x == (i+1)) for i in range(max(pd_col.unique()))]))\n",
        "\n",
        "def spread_arr(pd_df, col_name):\n",
        "  \"\"\"\n",
        "    Unpacks a one-hot vector\n",
        "\n",
        "    NOTE: Only call this function on a column that had binarize_ranking used on it!\n",
        "  \"\"\"\n",
        "  n_col = len(pd_df[col_name][0])\n",
        "  for i in range(1, n_col+1):\n",
        "    new_name = col_name + f\"_{i}\"\n",
        "    pd_df[new_name] = pd_df[col_name].apply(lambda x: x[i-1])\n",
        "\n",
        "# First I convert as many features into binary as I can\n",
        "test_data[\"Q1\"] = binarize_ranking(test_data[\"Q1\"])\n",
        "test_data[\"Q2\"] = binarize_ranking(test_data[\"Q2\"])\n",
        "test_data[\"Q3\"] = binarize_ranking(test_data[\"Q3\"])\n",
        "test_data[\"Q4\"] = binarize_ranking(test_data[\"Q4\"])\n",
        "\n",
        "test_data[\"Q6\"] = fresh_data[\"Q6\"].apply(get_number_list_clean)\n",
        "\n",
        "temp_names = []\n",
        "for i in range(1,7):\n",
        "    col_name = f\"rank_{i}\"\n",
        "    temp_names.append(col_name)\n",
        "    test_data[col_name] = test_data[\"Q6\"].apply(lambda l: find_area_at_rank(l, i))\n",
        "\n",
        "\n",
        "for i in range(1,7):\n",
        "    col_name = f\"rank_{i}\"\n",
        "    indicators = pd.get_dummies(test_data[col_name], prefix=col_name)\n",
        "    test_data = pd.concat([test_data, indicators], axis=1)\n",
        "    #del test_data[col]\n",
        "\n",
        "del test_data[\"Q6Skyscraper\"]\n",
        "del test_data[\"Q6ArtMusic\"]\n",
        "del test_data[\"Q6Sport\"]\n",
        "del test_data[\"Q6Carnival\"]\n",
        "del test_data[\"Q6Cuisine\"]\n",
        "del test_data[\"Q6Economic\"]\n",
        "del test_data[\"Q6\"]\n",
        "del test_data[\"Q7\"]\n",
        "del test_data[\"Q8\"]\n",
        "del test_data[\"Q9\"]\n",
        "\n",
        "#test_data_q10 = test_data[[\"Q10\", \"Label\"]]\n",
        "#del test_data[\"Q10\"]\n",
        "\n",
        "spread_arr(test_data, \"Q1\")\n",
        "spread_arr(test_data, \"Q2\")\n",
        "spread_arr(test_data, \"Q3\")\n",
        "spread_arr(test_data, \"Q4\")\n",
        "del test_data[\"Q1\"]\n",
        "del test_data[\"Q2\"]\n",
        "del test_data[\"Q3\"]\n",
        "del test_data[\"Q4\"]\n",
        "test_data = test_data.drop(temp_names, axis=1)\n",
        "\n",
        "print(test_data.columns)\n",
        "print(test_data)\n"
      ],
      "metadata": {
        "colab": {
          "base_uri": "https://localhost:8080/"
        },
        "id": "QdBAXyWKR6Ce",
        "outputId": "a235f29a-508d-4592-d777-46444d6d808b"
      },
      "execution_count": 90,
      "outputs": [
        {
          "output_type": "stream",
          "name": "stdout",
          "text": [
            "Index(['Q10', 'Label', 'Q5Partner', 'Q5Friends', 'Q5Siblings', 'Q5Co-worker',\n",
            "       'rank_1_0', 'rank_1_1', 'rank_1_2', 'rank_1_3', 'rank_1_4', 'rank_1_5',\n",
            "       'rank_1_6', 'rank_2_0', 'rank_2_1', 'rank_2_2', 'rank_2_3', 'rank_2_4',\n",
            "       'rank_2_5', 'rank_2_6', 'rank_3_0', 'rank_3_1', 'rank_3_2', 'rank_3_3',\n",
            "       'rank_3_4', 'rank_3_5', 'rank_3_6', 'rank_4_0', 'rank_4_1', 'rank_4_2',\n",
            "       'rank_4_3', 'rank_4_4', 'rank_4_5', 'rank_4_6', 'rank_5_0', 'rank_5_1',\n",
            "       'rank_5_2', 'rank_5_3', 'rank_5_4', 'rank_5_5', 'rank_5_6', 'rank_6_0',\n",
            "       'rank_6_1', 'rank_6_2', 'rank_6_3', 'rank_6_4', 'rank_6_5', 'rank_6_6',\n",
            "       'Q1_1', 'Q1_2', 'Q1_3', 'Q1_4', 'Q1_5', 'Q2_1', 'Q2_2', 'Q2_3', 'Q2_4',\n",
            "       'Q2_5', 'Q3_1', 'Q3_2', 'Q3_3', 'Q3_4', 'Q3_5', 'Q4_1', 'Q4_2', 'Q4_3',\n",
            "       'Q4_4', 'Q4_5'],\n",
            "      dtype='object')\n",
            "                                                    Q10           Label  \\\n",
            "288             i think this city is great and gorgeous           Dubai   \n",
            "156                                habibi come to dubai           Dubai   \n",
            "169            the bigger they are the harder they fall           Dubai   \n",
            "279   a city of excess  built on a house of cards oi...           Dubai   \n",
            "650                                    big jesus statue  Rio de Janeiro   \n",
            "...                                                 ...             ...   \n",
            "541                            alright blu youre flying  Rio de Janeiro   \n",
            "945                          a city of dreams and greed   New York City   \n",
            "1365           the best food in france is made in paris           Paris   \n",
            "736            concrete jungles what dreams are made of   New York City   \n",
            "514                                       fun place idk  Rio de Janeiro   \n",
            "\n",
            "      Q5Partner  Q5Friends  Q5Siblings  Q5Co-worker  rank_1_0  rank_1_1  \\\n",
            "288           0          1           0            0      True     False   \n",
            "156           1          1           0            0     False     False   \n",
            "169           1          1           0            0     False     False   \n",
            "279           0          0           0            1      True     False   \n",
            "650           1          1           1            0     False     False   \n",
            "...         ...        ...         ...          ...       ...       ...   \n",
            "541           1          1           0            0     False     False   \n",
            "945           0          0           0            1     False     False   \n",
            "1365          1          1           0            0     False     False   \n",
            "736           1          1           0            1      True     False   \n",
            "514           0          0           1            0     False     False   \n",
            "\n",
            "      rank_1_2  rank_1_3  ...  Q3_1  Q3_2  Q3_3  Q3_4  Q3_5  Q4_1  Q4_2  Q4_3  \\\n",
            "288      False     False  ...     0     0     0     1     0     0     0     0   \n",
            "156      False     False  ...     0     0     0     1     0     0     0     1   \n",
            "169      False     False  ...     0     0     0     0     1     0     1     0   \n",
            "279      False     False  ...     0     0     0     1     0     0     1     0   \n",
            "650      False     False  ...     0     1     0     0     0     0     0     0   \n",
            "...        ...       ...  ...   ...   ...   ...   ...   ...   ...   ...   ...   \n",
            "541       True     False  ...     0     0     0     0     1     0     0     0   \n",
            "945      False     False  ...     0     0     0     0     1     0     1     0   \n",
            "1365      True     False  ...     0     0     0     1     0     0     0     1   \n",
            "736      False     False  ...     0     0     0     0     1     0     0     0   \n",
            "514      False     False  ...     0     0     1     0     0     0     0     1   \n",
            "\n",
            "      Q4_4  Q4_5  \n",
            "288      1     0  \n",
            "156      0     0  \n",
            "169      0     0  \n",
            "279      0     0  \n",
            "650      1     0  \n",
            "...    ...   ...  \n",
            "541      0     1  \n",
            "945      0     0  \n",
            "1365     0     0  \n",
            "736      0     1  \n",
            "514      0     0  \n",
            "\n",
            "[1416 rows x 68 columns]\n"
          ]
        }
      ]
    },
    {
      "cell_type": "code",
      "source": [
        "def num_encode(x):\n",
        "  map = {\"Dubai\": 1, \"New York City\": 2, \"Paris\": 3, \"Rio de Janeiro\": 4}\n",
        "  return map[x]\n",
        "\n",
        "# Randomize for sanity\n",
        "randomized = test_data.sample(frac=1)\n",
        "randomized_trainvalid = randomized.iloc[:VALID_SLICE]\n",
        "randomized_test = randomized.iloc[VALID_SLICE:]\n",
        "\n",
        "# Start with defining test set\n",
        "X_test, t_test = randomized_test.drop([\"Label\", \"Q10\"], axis=1).to_numpy(), randomized_test[\"Label\"].to_numpy()\n",
        "t_test_copy = np.array([num_encode(x) for x in t_test])\n",
        "X_test_bow, _ = make_bow(randomized_test[[\"Q10\", \"Label\"]].to_numpy(), train_vocab)\n",
        "X_test = np.hstack((X_test, X_test_bow))\n",
        "\n",
        "# Start with getting the bulk of the data (Q1-5,6)\n",
        "X, t = randomized_trainvalid.drop([\"Label\", \"Q10\"], axis=1).to_numpy(), randomized_trainvalid[\"Label\"].to_numpy()\n",
        "X_train, X_valid = X[:TRAIN_SLICE], X[TRAIN_SLICE:]\n",
        "t_train, t_valid = t[:TRAIN_SLICE], t[TRAIN_SLICE:]\n",
        "\n",
        "# SKLearn does not like one-hot encoded target labels\n",
        "t_train_copy = np.array([num_encode(x) for x in t_train])\n",
        "t_valid_copy = np.array([num_encode(x) for x in t_valid])\n",
        "\n",
        "# Now, get the bag of words data using our custom vocab\n",
        "X_train_bow, _ = make_bow(randomized_trainvalid[[\"Q10\", \"Label\"]].to_numpy()[:TRAIN_SLICE], train_vocab)\n",
        "X_valid_bow, _ = make_bow(randomized_trainvalid[[\"Q10\", \"Label\"]].to_numpy()[TRAIN_SLICE:], train_vocab)\n",
        "\n",
        "# Append the bag of words data onto our other cleaned data\n",
        "X_train = np.hstack((X_train, X_train_bow))\n",
        "X_valid = np.hstack((X_valid, X_valid_bow))\n",
        "\n",
        "\n",
        "# Optimize the hyperparameter alpha, which defines the strenght of Laplace Smoothing\n",
        "alpha_vals = [10 ** i for i in [-2, -1]] + [2**i for i in range(8)]  # Go up by powers of two\n",
        "# NOTE: SKLearn's default is 1, and while we could go lower than 10^-2, their\n",
        "# documentation suggests taht values very close to 0 can give numerical errors.\n",
        "\n",
        "best_alpha, best_acc = None, None\n",
        "valid_accs = []\n",
        "# Loop over all possible alpha values and see which one gives us the best validation accuracy\n",
        "for alpha in alpha_vals:\n",
        "  model = BernoulliNB(alpha=alpha, force_alpha = True)\n",
        "  model.fit(X_train, t_train_copy)\n",
        "  #y_train = model.predict(X_train)\n",
        "  y_valid = model.predict(X_valid)\n",
        "\n",
        "  #train_acc = accuracy(y_train, t_train_copy)\n",
        "\n",
        "  valid_acc = accuracy(y_valid, t_valid_copy)\n",
        "  valid_accs.append(valid_acc)\n",
        "\n",
        "  if not best_acc or valid_acc > best_acc:  # Initialize or replace if needed\n",
        "    best_acc = valid_acc\n",
        "    best_alpha = alpha\n",
        "\n",
        "\n",
        "\n",
        "# Now get average validation and test accuracy\n",
        "run_valid_sum = 0\n",
        "run_test_sum = 0\n",
        "RUNS = 10\n",
        "\n",
        "for i in range(RUNS):\n",
        "  model = BernoulliNB(alpha=best_alpha, force_alpha = True)\n",
        "  model.fit(X_train, t_train_copy)\n",
        "  y_valid = model.predict(X_valid)\n",
        "  y_test = model.predict(X_test)\n",
        "\n",
        "  run_valid_sum += accuracy(t_valid_copy, y_valid)\n",
        "  run_test_sum += accuracy(t_test_copy, y_test)\n",
        "\n",
        "  # Start with getting the bulk of the data (Q1-5,6)\n",
        "  randomized_trainvalid = randomized_trainvalid.sample(frac=1)\n",
        "  X, t = randomized_trainvalid.drop([\"Label\", \"Q10\"], axis=1).to_numpy(), randomized_trainvalid[\"Label\"].to_numpy()\n",
        "  X_train, X_valid = X[:TRAIN_SLICE], X[TRAIN_SLICE:]\n",
        "  t_train, t_valid = t[:TRAIN_SLICE], t[TRAIN_SLICE:]\n",
        "\n",
        "  # SKLearn does not like one-hot encoded target labels\n",
        "  t_train_copy = np.array([num_encode(x) for x in t_train])\n",
        "  t_valid_copy = np.array([num_encode(x) for x in t_valid])\n",
        "\n",
        "  # Now, get the bag of words data using our custom vocab\n",
        "  X_train_bow, _ = make_bow(randomized_trainvalid[[\"Q10\", \"Label\"]].to_numpy()[:TRAIN_SLICE], train_vocab)\n",
        "  X_valid_bow, _ = make_bow(randomized_trainvalid[[\"Q10\", \"Label\"]].to_numpy()[TRAIN_SLICE:], train_vocab)\n",
        "\n",
        "  # Append the bag of words data onto our other cleaned data\n",
        "  X_train = np.hstack((X_train, X_train_bow))\n",
        "  X_valid = np.hstack((X_valid, X_valid_bow))\n",
        "\n",
        "\n",
        "avg_valid_acc = run_valid_sum/RUNS\n",
        "avg_test_acc = run_test_sum/RUNS\n",
        "\n",
        "print()\n",
        "print(f\"The best alpha value is {best_alpha}\")\n",
        "print(f\"The average validation accuracy is {avg_valid_acc}\")\n",
        "print(f\"The average test accuracy is {avg_test_acc}\")\n",
        "\n",
        "# Plot validation accuracy of each alpha score\n",
        "plt.plot(alpha_vals, valid_accs)\n",
        "plt.title(\"Validation accuracy as alpha increases\")\n",
        "plt.show()\n",
        "\n",
        "\n",
        "\n",
        "# Now use SKLearn's BernoulliNB to make predictions\n",
        "#model = BernoulliNB()\n",
        "#model = BernoulliNB(alpha=best_alpha, force_alpha=False)\n",
        "#model.fit(X_train, t_train_copy)\n",
        "#y_train = model.predict(X_train)\n",
        "#y_valid = model.predict(X_valid)"
      ],
      "metadata": {
        "colab": {
          "base_uri": "https://localhost:8080/",
          "height": 521
        },
        "id": "D_V5LFxRPb5O",
        "outputId": "3529fab4-fa1d-4505-c3ab-d829fb55743f"
      },
      "execution_count": 151,
      "outputs": [
        {
          "output_type": "stream",
          "name": "stdout",
          "text": [
            "\n",
            "The best alpha value is 1\n",
            "The average validation accuracy is 0.8931506849315067\n",
            "The average test accuracy is 0.873\n"
          ]
        },
        {
          "output_type": "display_data",
          "data": {
            "text/plain": [
              "<Figure size 640x480 with 1 Axes>"
            ],
            "image/png": "[encoded data removed]"
          },
          "metadata": {}
        }
      ]
    },
    {
      "cell_type": "code",
      "source": [
        "def num_encode(x):\n",
        "  map = {\"Dubai\": 1, \"New York City\": 2, \"Paris\": 3, \"Rio de Janeiro\": 4}\n",
        "  return map[x]\n",
        "\n",
        "# Manually taking some popular words from our observations (yields better performance)\n",
        "custom_vocab = [\"dubai\", \"rich\", \"city\", \"rio\", \"love\", \"dreams\", \"paris\", \"york\", \"football\", \"tower\", \"concrete\", \"money\", \"baguette\", \"brazil\", \"carnival\", \"jungle\", \"eiffel\", \"habibi\", \"oil\", \"big\", \"apple\"]\n",
        "\n",
        "# Programmatically generate a vocabulary using the subsets of words we generated\n",
        "#custom_vocab = set([x[0] for x in dubai_final])\n",
        "#temp1 = set([x[0] for x in nyc_final])\n",
        "#temp2 = set([x[0] for x in paris_final])\n",
        "#temp3 = set([x[0] for x in rio_final])\n",
        "#custom_vocab = custom_vocab.union(temp1)\n",
        "#custom_vocab = custom_vocab.union(temp2)\n",
        "#custom_vocab = list(custom_vocab.union(temp3))\n",
        "\n",
        "# Randomize for sanity\n",
        "randomized = test_data.sample(frac=1)\n",
        "randomized_trainvalid = randomized.iloc[:VALID_SLICE]\n",
        "randomized_test = randomized.iloc[VALID_SLICE:]\n",
        "\n",
        "# Start with defining test set\n",
        "X_test, t_test = randomized_test.drop([\"Label\", \"Q10\"], axis=1).to_numpy(), randomized_test[\"Label\"].to_numpy()\n",
        "t_test_copy = np.array([num_encode(x) for x in t_test])\n",
        "X_test_bow, _ = make_bow(randomized_test[[\"Q10\", \"Label\"]].to_numpy(), custom_vocab)\n",
        "X_test = np.hstack((X_test, X_test_bow))\n",
        "\n",
        "# Start with getting the bulk of the data (Q1-5,6)\n",
        "X, t = randomized_trainvalid.drop([\"Label\", \"Q10\"], axis=1).to_numpy(), randomized_trainvalid[\"Label\"].to_numpy()\n",
        "X_train, X_valid = X[:TRAIN_SLICE], X[TRAIN_SLICE:]\n",
        "t_train, t_valid = t[:TRAIN_SLICE], t[TRAIN_SLICE:]\n",
        "\n",
        "# SKLearn does not like one-hot encoded target labels\n",
        "t_train_copy = np.array([num_encode(x) for x in t_train])\n",
        "t_valid_copy = np.array([num_encode(x) for x in t_valid])\n",
        "\n",
        "# Now, get the bag of words data using our custom vocab\n",
        "X_train_bow, _ = make_bow(randomized_trainvalid[[\"Q10\", \"Label\"]].to_numpy()[:TRAIN_SLICE], custom_vocab)\n",
        "X_valid_bow, _ = make_bow(randomized_trainvalid[[\"Q10\", \"Label\"]].to_numpy()[TRAIN_SLICE:], custom_vocab)\n",
        "\n",
        "# Append the bag of words data onto our other cleaned data\n",
        "X_train = np.hstack((X_train, X_train_bow))\n",
        "X_valid = np.hstack((X_valid, X_valid_bow))\n",
        "\n",
        "# Now use SKLearn's BernoulliNB to make predictions\n",
        "#model = BernoulliNB()\n",
        "model = BernoulliNB(alpha=best_alpha, force_alpha=True)\n",
        "model.fit(X_train, t_train_copy)\n",
        "y_train = model.predict(X_train)\n",
        "y_valid = model.predict(X_valid)\n",
        "y_test = model.predict(X_test)\n",
        "\n",
        "print(f\"Training accuracy: {accuracy(y_train, t_train_copy)}\")\n",
        "print(f\"Validation accuracy: {accuracy(y_valid, t_valid_copy)}\")\n",
        "print(f\"Test accuracy: {accuracy(y_test, t_test_copy)}\")"
      ],
      "metadata": {
        "colab": {
          "base_uri": "https://localhost:8080/"
        },
        "id": "bDjyzUEBkXiK",
        "outputId": "7bd85007-58c7-4092-c76c-b7ed13e31c57"
      },
      "execution_count": 158,
      "outputs": [
        {
          "output_type": "stream",
          "name": "stdout",
          "text": [
            "Training accuracy: 0.880859375\n",
            "Validation accuracy: 0.9041095890410958\n",
            "Test accuracy: 0.88\n"
          ]
        }
      ]
    },
    {
      "cell_type": "code",
      "source": [
        "def num_encode(x):\n",
        "  map = {\"Dubai\": 1, \"New York City\": 2, \"Paris\": 3, \"Rio de Janeiro\": 4}\n",
        "  return map[x]\n",
        "\n",
        "# Manually taking some popular words from our observations (yields better performance)\n",
        "custom_vocab = [\"dubai\", \"rich\", \"city\", \"rio\", \"love\", \"dreams\", \"paris\", \"york\", \"football\", \"tower\", \"concrete\", \"money\", \"baguette\", \"brazil\", \"carnival\", \"jungle\", \"eiffel\", \"habibi\", \"oil\", \"big\", \"apple\"]\n",
        "\n",
        "# Programmatically generate a vocabulary using the subsets of words we generated\n",
        "#custom_vocab = set([x[0] for x in dubai_final])\n",
        "#temp1 = set([x[0] for x in nyc_final])\n",
        "#temp2 = set([x[0] for x in paris_final])\n",
        "#temp3 = set([x[0] for x in rio_final])\n",
        "#custom_vocab = custom_vocab.union(temp1)\n",
        "#custom_vocab = custom_vocab.union(temp2)\n",
        "#custom_vocab = list(custom_vocab.union(temp3))\n",
        "\n",
        "# Randomize for sanity\n",
        "randomized = test_data.sample(frac=1)\n",
        "\n",
        "# Start with getting the bulk of the data (Q1-5,6)\n",
        "X, t = randomized.drop([\"Label\", \"Q10\"], axis=1).to_numpy(), randomized[\"Label\"].to_numpy()\n",
        "X_train, X_valid = X[:TRAINVALID_SLICE], X[TRAINVALID_SLICE:]\n",
        "t_train, t_valid = t[:TRAINVALID_SLICE], t[TRAINVALID_SLICE:]\n",
        "\n",
        "# SKLearn does not like one-hot encoded target labels\n",
        "t_train_copy = np.array([num_encode(x) for x in t_train])\n",
        "t_valid_copy = np.array([num_encode(x) for x in t_valid])\n",
        "\n",
        "# Now, get the bag of words data using our custom vocab\n",
        "Xt_bow, _ = make_bow(randomized[[\"Q10\", \"Label\"]].to_numpy()[:TRAINVALID_SLICE], custom_vocab)\n",
        "Xv_bow, _ = make_bow(randomized[[\"Q10\", \"Label\"]].to_numpy()[TRAINVALID_SLICE:], custom_vocab)\n",
        "\n",
        "# Append the bag of words data onto our other cleaned data\n",
        "X_train = np.hstack((X_train, Xt_bow))\n",
        "X_valid = np.hstack((X_valid, Xv_bow))\n",
        "\n",
        "# Now use SKLearn's BernoulliNB to make predictions\n",
        "#model = BernoulliNB()\n",
        "model = BernoulliNB(alpha=1, force_alpha=True)\n",
        "model.fit(X_train, t_train_copy)\n",
        "y_train = model.predict(X_train)\n",
        "y_valid = model.predict(X_valid)\n",
        "\n",
        "print(f\"Training accuracy: {np.mean(y_train == t_train_copy)}\")\n",
        "print(f\"Validation accuracy: {np.mean(y_valid == t_valid_copy)}\")"
      ],
      "metadata": {
        "colab": {
          "base_uri": "https://localhost:8080/"
        },
        "id": "UBoXYekhfj8q",
        "outputId": "ad142eee-27e9-48dd-fada-8f29dfe3ae27"
      },
      "execution_count": 140,
      "outputs": [
        {
          "output_type": "stream",
          "name": "stdout",
          "text": [
            "Training accuracy: 0.8913373860182371\n",
            "Validation accuracy: 0.86\n"
          ]
        }
      ]
    },
    {
      "cell_type": "markdown",
      "source": [
        "# ROUGH WORK\n",
        "\n",
        "Currently has my attempt at using MultinomialNB (would be a brand new thing to implement anyways), and my attempt as using lab code to implement BernoulliNB myself for our case (there was a moment where I thought SKLearn wasn't playing nicely with my Bag-of-Words)."
      ],
      "metadata": {
        "id": "BxsWfsLci9ps"
      }
    },
    {
      "cell_type": "markdown",
      "source": [
        "Since questions 1-4 and 6 are ranking based, I can attempt using Multinomial Naive Bayes to make predictions:"
      ],
      "metadata": {
        "id": "pQtSuVyj2STG"
      }
    },
    {
      "cell_type": "code",
      "source": [
        "# Using sklearn to also transform the data this time\n",
        "# Source: https://scikit-learn.org/stable/tutorial/text_analytics/working_with_text_data.html\n",
        "\n",
        "from sklearn.feature_extraction.text import CountVectorizer, TfidfTransformer\n",
        "from sklearn.naive_bayes import MultinomialNB, CategoricalNB\n",
        "\n",
        "count_vect = CountVectorizer()\n",
        "X_train_counts = count_vect.fit_transform(X_train)\n",
        "\n",
        "tfidf_transformer = TfidfTransformer()\n",
        "X_train_tfidf = tfidf_transformer.fit_transform(X_train_counts)\n",
        "\n",
        "model = MultinomialNB().fit(X_train_tfidf, t_train)\n",
        "\n",
        "\n",
        "# Training acc\n",
        "predicted = model.predict(X_train_tfidf)\n",
        "print(f\"Training Accuracy: {np.mean(predicted == t_train)}\")\n",
        "\n",
        "# Now we try predicting\n",
        "X_valid_counts = count_vect.transform(X_valid)\n",
        "X_valid_tfidf = tfidf_transformer.transform(X_valid_counts)\n",
        "predicted = model.predict(X_valid_tfidf)\n",
        "\n",
        "print(f\"Validation Accuracy: {np.mean(predicted == t_valid)}\")\n",
        "\n",
        "# Test accuracy\n",
        "X_test_counts = count_vect.transform(X_test)\n",
        "X_test_tfidf = tfidf_transformer.transform(X_test_counts)\n",
        "predicted = model.predict(X_test_tfidf)\n",
        "\n",
        "print(f\"Test Accuracy: {np.mean(predicted == t_test)}\")\n"
      ],
      "metadata": {
        "id": "HEU7w5Jb9ycC",
        "colab": {
          "base_uri": "https://localhost:8080/",
          "height": 356
        },
        "outputId": "a153a9ce-fb37-407b-cd9a-a4c68c48018f"
      },
      "execution_count": 17,
      "outputs": [
        {
          "output_type": "error",
          "ename": "AttributeError",
          "evalue": "'numpy.ndarray' object has no attribute 'lower'",
          "traceback": [
            "\u001b[0;31m---------------------------------------------------------------------------\u001b[0m",
            "\u001b[0;31mAttributeError\u001b[0m                            Traceback (most recent call last)",
            "\u001b[0;32m<ipython-input-17-ffde3904a9f7>\u001b[0m in \u001b[0;36m<cell line: 8>\u001b[0;34m()\u001b[0m\n\u001b[1;32m      6\u001b[0m \u001b[0;34m\u001b[0m\u001b[0m\n\u001b[1;32m      7\u001b[0m \u001b[0mcount_vect\u001b[0m \u001b[0;34m=\u001b[0m \u001b[0mCountVectorizer\u001b[0m\u001b[0;34m(\u001b[0m\u001b[0;34m)\u001b[0m\u001b[0;34m\u001b[0m\u001b[0;34m\u001b[0m\u001b[0m\n\u001b[0;32m----> 8\u001b[0;31m \u001b[0mX_train_counts\u001b[0m \u001b[0;34m=\u001b[0m \u001b[0mcount_vect\u001b[0m\u001b[0;34m.\u001b[0m\u001b[0mfit_transform\u001b[0m\u001b[0;34m(\u001b[0m\u001b[0mX_train\u001b[0m\u001b[0;34m)\u001b[0m\u001b[0;34m\u001b[0m\u001b[0;34m\u001b[0m\u001b[0m\n\u001b[0m\u001b[1;32m      9\u001b[0m \u001b[0;34m\u001b[0m\u001b[0m\n\u001b[1;32m     10\u001b[0m \u001b[0mtfidf_transformer\u001b[0m \u001b[0;34m=\u001b[0m \u001b[0mTfidfTransformer\u001b[0m\u001b[0;34m(\u001b[0m\u001b[0;34m)\u001b[0m\u001b[0;34m\u001b[0m\u001b[0;34m\u001b[0m\u001b[0m\n",
            "\u001b[0;32m/usr/local/lib/python3.10/dist-packages/sklearn/feature_extraction/text.py\u001b[0m in \u001b[0;36mfit_transform\u001b[0;34m(self, raw_documents, y)\u001b[0m\n\u001b[1;32m   1386\u001b[0m                     \u001b[0;32mbreak\u001b[0m\u001b[0;34m\u001b[0m\u001b[0;34m\u001b[0m\u001b[0m\n\u001b[1;32m   1387\u001b[0m \u001b[0;34m\u001b[0m\u001b[0m\n\u001b[0;32m-> 1388\u001b[0;31m         \u001b[0mvocabulary\u001b[0m\u001b[0;34m,\u001b[0m \u001b[0mX\u001b[0m \u001b[0;34m=\u001b[0m \u001b[0mself\u001b[0m\u001b[0;34m.\u001b[0m\u001b[0m_count_vocab\u001b[0m\u001b[0;34m(\u001b[0m\u001b[0mraw_documents\u001b[0m\u001b[0;34m,\u001b[0m \u001b[0mself\u001b[0m\u001b[0;34m.\u001b[0m\u001b[0mfixed_vocabulary_\u001b[0m\u001b[0;34m)\u001b[0m\u001b[0;34m\u001b[0m\u001b[0;34m\u001b[0m\u001b[0m\n\u001b[0m\u001b[1;32m   1389\u001b[0m \u001b[0;34m\u001b[0m\u001b[0m\n\u001b[1;32m   1390\u001b[0m         \u001b[0;32mif\u001b[0m \u001b[0mself\u001b[0m\u001b[0;34m.\u001b[0m\u001b[0mbinary\u001b[0m\u001b[0;34m:\u001b[0m\u001b[0;34m\u001b[0m\u001b[0;34m\u001b[0m\u001b[0m\n",
            "\u001b[0;32m/usr/local/lib/python3.10/dist-packages/sklearn/feature_extraction/text.py\u001b[0m in \u001b[0;36m_count_vocab\u001b[0;34m(self, raw_documents, fixed_vocab)\u001b[0m\n\u001b[1;32m   1273\u001b[0m         \u001b[0;32mfor\u001b[0m \u001b[0mdoc\u001b[0m \u001b[0;32min\u001b[0m \u001b[0mraw_documents\u001b[0m\u001b[0;34m:\u001b[0m\u001b[0;34m\u001b[0m\u001b[0;34m\u001b[0m\u001b[0m\n\u001b[1;32m   1274\u001b[0m             \u001b[0mfeature_counter\u001b[0m \u001b[0;34m=\u001b[0m \u001b[0;34m{\u001b[0m\u001b[0;34m}\u001b[0m\u001b[0;34m\u001b[0m\u001b[0;34m\u001b[0m\u001b[0m\n\u001b[0;32m-> 1275\u001b[0;31m             \u001b[0;32mfor\u001b[0m \u001b[0mfeature\u001b[0m \u001b[0;32min\u001b[0m \u001b[0manalyze\u001b[0m\u001b[0;34m(\u001b[0m\u001b[0mdoc\u001b[0m\u001b[0;34m)\u001b[0m\u001b[0;34m:\u001b[0m\u001b[0;34m\u001b[0m\u001b[0;34m\u001b[0m\u001b[0m\n\u001b[0m\u001b[1;32m   1276\u001b[0m                 \u001b[0;32mtry\u001b[0m\u001b[0;34m:\u001b[0m\u001b[0;34m\u001b[0m\u001b[0;34m\u001b[0m\u001b[0m\n\u001b[1;32m   1277\u001b[0m                     \u001b[0mfeature_idx\u001b[0m \u001b[0;34m=\u001b[0m \u001b[0mvocabulary\u001b[0m\u001b[0;34m[\u001b[0m\u001b[0mfeature\u001b[0m\u001b[0;34m]\u001b[0m\u001b[0;34m\u001b[0m\u001b[0;34m\u001b[0m\u001b[0m\n",
            "\u001b[0;32m/usr/local/lib/python3.10/dist-packages/sklearn/feature_extraction/text.py\u001b[0m in \u001b[0;36m_analyze\u001b[0;34m(doc, analyzer, tokenizer, ngrams, preprocessor, decoder, stop_words)\u001b[0m\n\u001b[1;32m    109\u001b[0m     \u001b[0;32melse\u001b[0m\u001b[0;34m:\u001b[0m\u001b[0;34m\u001b[0m\u001b[0;34m\u001b[0m\u001b[0m\n\u001b[1;32m    110\u001b[0m         \u001b[0;32mif\u001b[0m \u001b[0mpreprocessor\u001b[0m \u001b[0;32mis\u001b[0m \u001b[0;32mnot\u001b[0m \u001b[0;32mNone\u001b[0m\u001b[0;34m:\u001b[0m\u001b[0;34m\u001b[0m\u001b[0;34m\u001b[0m\u001b[0m\n\u001b[0;32m--> 111\u001b[0;31m             \u001b[0mdoc\u001b[0m \u001b[0;34m=\u001b[0m \u001b[0mpreprocessor\u001b[0m\u001b[0;34m(\u001b[0m\u001b[0mdoc\u001b[0m\u001b[0;34m)\u001b[0m\u001b[0;34m\u001b[0m\u001b[0;34m\u001b[0m\u001b[0m\n\u001b[0m\u001b[1;32m    112\u001b[0m         \u001b[0;32mif\u001b[0m \u001b[0mtokenizer\u001b[0m \u001b[0;32mis\u001b[0m \u001b[0;32mnot\u001b[0m \u001b[0;32mNone\u001b[0m\u001b[0;34m:\u001b[0m\u001b[0;34m\u001b[0m\u001b[0;34m\u001b[0m\u001b[0m\n\u001b[1;32m    113\u001b[0m             \u001b[0mdoc\u001b[0m \u001b[0;34m=\u001b[0m \u001b[0mtokenizer\u001b[0m\u001b[0;34m(\u001b[0m\u001b[0mdoc\u001b[0m\u001b[0;34m)\u001b[0m\u001b[0;34m\u001b[0m\u001b[0;34m\u001b[0m\u001b[0m\n",
            "\u001b[0;32m/usr/local/lib/python3.10/dist-packages/sklearn/feature_extraction/text.py\u001b[0m in \u001b[0;36m_preprocess\u001b[0;34m(doc, accent_function, lower)\u001b[0m\n\u001b[1;32m     67\u001b[0m     \"\"\"\n\u001b[1;32m     68\u001b[0m     \u001b[0;32mif\u001b[0m \u001b[0mlower\u001b[0m\u001b[0;34m:\u001b[0m\u001b[0;34m\u001b[0m\u001b[0;34m\u001b[0m\u001b[0m\n\u001b[0;32m---> 69\u001b[0;31m         \u001b[0mdoc\u001b[0m \u001b[0;34m=\u001b[0m \u001b[0mdoc\u001b[0m\u001b[0;34m.\u001b[0m\u001b[0mlower\u001b[0m\u001b[0;34m(\u001b[0m\u001b[0;34m)\u001b[0m\u001b[0;34m\u001b[0m\u001b[0;34m\u001b[0m\u001b[0m\n\u001b[0m\u001b[1;32m     70\u001b[0m     \u001b[0;32mif\u001b[0m \u001b[0maccent_function\u001b[0m \u001b[0;32mis\u001b[0m \u001b[0;32mnot\u001b[0m \u001b[0;32mNone\u001b[0m\u001b[0;34m:\u001b[0m\u001b[0;34m\u001b[0m\u001b[0;34m\u001b[0m\u001b[0m\n\u001b[1;32m     71\u001b[0m         \u001b[0mdoc\u001b[0m \u001b[0;34m=\u001b[0m \u001b[0maccent_function\u001b[0m\u001b[0;34m(\u001b[0m\u001b[0mdoc\u001b[0m\u001b[0;34m)\u001b[0m\u001b[0;34m\u001b[0m\u001b[0;34m\u001b[0m\u001b[0m\n",
            "\u001b[0;31mAttributeError\u001b[0m: 'numpy.ndarray' object has no attribute 'lower'"
          ]
        }
      ]
    }
  ]
}